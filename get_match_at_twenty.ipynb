{
 "cells": [
  {
   "cell_type": "code",
   "execution_count": null,
   "metadata": {},
   "outputs": [],
   "source": [
    "api_key='RGAPI-473c5960-3ed2-4d30-822d-3c0861908f09'\n",
    "import requests\n",
    "import time\n",
    "import pandas as pd"
   ]
  },
  {
   "cell_type": "markdown",
   "metadata": {},
   "source": [
    "# Retrieving high rank solo queue ladder"
   ]
  },
  {
   "cell_type": "code",
   "execution_count": null,
   "metadata": {},
   "outputs": [],
   "source": [
    "#get chal, gm, master leaderboards and convert to one\n",
    "root= 'https://euw1.api.riotgames.com/'\n",
    "challenger_root = 'lol/league/v4/challengerleagues/by-queue/RANKED_SOLO_5x5'\n",
    "grandmaster_root = 'lol/league/v4/grandmasterleagues/by-queue/RANKED_SOLO_5x5'\n",
    "master_root = 'lol/league/v4/masterleagues/by-queue/RANKED_SOLO_5x5'\n",
    "\n",
    "challenger_response = requests.get(root+challenger_root+'?api_key='+api_key)\n",
    "grandmaster_response = requests.get(root+grandmaster_root+'?api_key='+api_key)\n",
    "master_response = requests.get(root+master_root+'?api_key='+api_key)\n",
    "\n",
    "challenger_df = pd.DataFrame(challenger_response.json()['entries']).sort_values('leaguePoints', ascending=False).reset_index(drop=True)\n",
    "grandmaster_df=pd.DataFrame(grandmaster_response.json()['entries']).sort_values('leaguePoints', ascending=False).reset_index(drop=True)\n",
    "master_df=pd.DataFrame(master_response.json()['entries']).sort_values('leaguePoints', ascending=False).reset_index(drop=True)\n",
    "\n",
    "\n",
    "#concatenating the dataframes\n",
    "high_rank_ladder=pd.concat([challenger_df, grandmaster_df, master_df])[0:1500].reset_index(drop=True)\n",
    "high_rank_ladder=high_rank_ladder.drop(columns='rank').reset_index(drop=False).rename(columns={'index':'rank'})\n",
    "high_rank_ladder['rank']+=1\n",
    "\n",
    "high_rank_ladder"
   ]
  },
  {
   "cell_type": "code",
   "execution_count": null,
   "metadata": {},
   "outputs": [],
   "source": [
    "def get_puuid_from_summoner_id(summonerId=None):\n",
    "    '''takes summoner id as parameter and gets puuid'''\n",
    "    link=f'https://euw1.api.riotgames.com/lol/summoner/v4/summoners/{summonerId}?api_key={api_key}'\n",
    "\n",
    "    while True:\n",
    "        response = requests.get(link)\n",
    "        if response.status_code==429:\n",
    "            print('rate limit exceeded')\n",
    "            time.sleep(10)\n",
    "            continue\n",
    "        puuid=response.json()['puuid']\n",
    "        return puuid"
   ]
  },
  {
   "cell_type": "code",
   "execution_count": null,
   "metadata": {},
   "outputs": [],
   "source": [
    "puuid_list = []\n",
    "#gets puuids for every high rank player\n",
    "for summoner in high_rank_ladder['summonerId']:\n",
    "    puuids = get_puuid_from_summoner_id(summonerId=summoner)\n",
    "    puuid_list.append(puuids)"
   ]
  },
  {
   "cell_type": "code",
   "execution_count": null,
   "metadata": {},
   "outputs": [],
   "source": [
    "def get_match_id_from_puuid(puuid=None):\n",
    "    \"\"\"\n",
    "    takes puuid as parameter and gets most recent 15 ranked matches\n",
    "    \"\"\"\n",
    "    link=f'https://europe.api.riotgames.com/lol/match/v5/matches/by-puuid/{puuid}/ids?queue=420&type=ranked&start=0&count=15&api_key={api_key}'\n",
    "    while True:\n",
    "        response = requests.get(link)\n",
    "        if response.status_code==429:\n",
    "            print('rate limit exceeded')\n",
    "            time.sleep(10)\n",
    "            continue\n",
    "        match_id_list=response.json()\n",
    "        break\n",
    "    return match_id_list\n"
   ]
  },
  {
   "cell_type": "code",
   "execution_count": null,
   "metadata": {},
   "outputs": [],
   "source": [
    "all_match_id_list=[]\n",
    "#gets match ids for every puuid\n",
    "for player_puuid in puuid_list:\n",
    "    match_ids=get_match_id_from_puuid(puuid=player_puuid)\n",
    "    all_match_id_list.extend(match_ids)"
   ]
  },
  {
   "cell_type": "code",
   "execution_count": null,
   "metadata": {},
   "outputs": [],
   "source": [
    "len(all_match_id_list)"
   ]
  },
  {
   "cell_type": "code",
   "execution_count": null,
   "metadata": {},
   "outputs": [],
   "source": [
    "from collections import Counter\n",
    "\n",
    "#count duplicates and remove them from match id list\n",
    "match_id_counts = Counter(all_match_id_list)\n",
    "\n",
    "duplicate_match_ids = [match_id for match_id, count in match_id_counts.items() if count > 1]\n",
    "\n",
    "unique_match_id_list = list(set(all_match_id_list))"
   ]
  },
  {
   "cell_type": "code",
   "execution_count": null,
   "metadata": {},
   "outputs": [],
   "source": [
    "len(unique_match_id_list)"
   ]
  },
  {
   "cell_type": "code",
   "execution_count": null,
   "metadata": {},
   "outputs": [],
   "source": [
    "def get_match_info_at_twenty(matchId=None):\n",
    "    '''takes match id as parameter and gets the match json file'''\n",
    "    link = link= f'https://europe.api.riotgames.com/lol/match/v5/matches/{matchId}?api_key={api_key}'\n",
    "    while True:\n",
    "        response = requests.get(link)\n",
    "        if response.status_code==429:\n",
    "            print('Rate limit exceeded')\n",
    "            time.sleep(10)\n",
    "            continue\n",
    "        elif response.status_code==200:\n",
    "            break\n",
    "        elif response.status_code==404:\n",
    "            return 0\n",
    "        else:\n",
    "            print('Response is bad: '+str(response.status_code))\n",
    "    match_data = response.json()\n",
    "\n",
    "    if match_data is None:\n",
    "        print('no data obtained')\n",
    "        return 0\n",
    "\n",
    "    #checks if the match is a ranked match\n",
    "    if match_data['info']['queueId'] ==420:\n",
    "        timeline_api_link = f'https://europe.api.riotgames.com/lol/match/v5/matches/{matchId}/timeline?api_key={api_key}'\n",
    "\n",
    "        while True:\n",
    "            timeline_response = requests.get(timeline_api_link)\n",
    "            if timeline_response.status_code==429:\n",
    "                print('Rate limit exceeded')\n",
    "                time.sleep(10)\n",
    "                continue\n",
    "            elif timeline_response.status_code==200:\n",
    "                break\n",
    "            elif timeline_response.status_code==404:\n",
    "                print('timeline info not found')\n",
    "                return 0\n",
    "            else:\n",
    "                print('Response is bad: '+str(timeline_response.status_code))\n",
    "        timeline_info = timeline_response.json()\n",
    "        return timeline_info\n",
    "    \n",
    "    else:\n",
    "        print('not a ranked match')\n",
    "        #return 0\n",
    "            \n"
   ]
  },
  {
   "cell_type": "code",
   "execution_count": null,
   "metadata": {},
   "outputs": [],
   "source": [
    "get_match_info_at_twenty(matchId='EUW1_6920157556')"
   ]
  },
  {
   "cell_type": "code",
   "execution_count": null,
   "metadata": {},
   "outputs": [],
   "source": [
    "import pandas as pd"
   ]
  },
  {
   "cell_type": "code",
   "execution_count": null,
   "metadata": {},
   "outputs": [],
   "source": [
    "def get_specific_match_stats_at_twenty(data):\n",
    "\n",
    "    '''takes match json as parameter (data) and processes it to get info we are interested in'''\n",
    "    blue_side = data['info']['participants'][:5]\n",
    "    red_side = data['info']['participants'][5:]\n",
    "\n",
    "    #blue side statistics\n",
    "    #we will not consider baron in this because it spawns at exactly 20 minutes so it's impossible for any team to kill it in time\n",
    "    total_blue_side_minions = 0\n",
    "    total_blue_side_kills=0\n",
    "    total_blue_side_deaths=0\n",
    "    total_blue_side_gold_earned = 0\n",
    "    total_blue_side_wards_placed = 0\n",
    "    total_towers_destroyed_by_blue = 0\n",
    "    total_inhibitors_destroyed_by_blue =0\n",
    "    total_blue_side_dragons_killed =0\n",
    "    total_blue_side_riftHeralds_killed =0\n",
    "    blue_team_first_blood =0\n",
    "    blue_side_won=0\n",
    "\n",
    "    #red side statistics\n",
    "    total_red_side_minions = 0\n",
    "    total_red_side_kills=0\n",
    "    total_red_side_deaths =0\n",
    "    total_red_side_gold_earned = 0\n",
    "    total_red_side_wards_placed = 0\n",
    "    total_towers_destroyed_by_red = 0\n",
    "    total_inhibitors_destroyed_by_red =0\n",
    "    total_red_side_dragons_killed =0\n",
    "    total_red_side_riftHeralds_killed =0\n",
    " \n",
    "\n",
    "\n",
    "\n",
    "    #getting if blue side won or not (target variable, 1= blue, 0 = red)    \n",
    "    for event in data['info']['frames'][-1]['events']:\n",
    "        if event['type'] == 'GAME_END':\n",
    "            if event['winningTeam'] ==100:\n",
    "                blue_side_won+=1\n",
    "    \n",
    "    for participant in blue_side:\n",
    "        total_blue_side_minions += data['info']['frames'][19]['participantFrames'][str(participant['participantId'])]['minionsKilled']\n",
    "        total_blue_side_gold_earned+= data['info']['frames'][19]['participantFrames'][str(participant['participantId'])]['totalGold']\n",
    "\n",
    "    for participant in red_side:\n",
    "        total_red_side_minions += data['info']['frames'][19]['participantFrames'][str(participant['participantId'])]['minionsKilled']\n",
    "        total_red_side_gold_earned+= data['info']['frames'][19]['participantFrames'][str(participant['participantId'])]['totalGold']\n",
    "\n",
    "\n",
    "    #for loop to iterate over the events that occurred at the first 20 minutes/'frames' in the game\n",
    "    for frame in range(20):\n",
    "        for event in data['info']['frames'][frame]['events']:\n",
    "            if event['type']=='WARD_PLACED':\n",
    "                if event['creatorId'] in range(1,6):\n",
    "                    total_blue_side_wards_placed+=1\n",
    "                else:\n",
    "                    total_red_side_wards_placed+=1\n",
    "\n",
    "            #kill stats for both teams\n",
    "            if event['type']=='CHAMPION_KILL':\n",
    "                if event['killerId'] in range(1,6):\n",
    "                    total_blue_side_kills+=1\n",
    "                    total_red_side_deaths+=1\n",
    "                else:\n",
    "                    total_red_side_kills+=1\n",
    "                    total_blue_side_deaths+=1\n",
    "            \n",
    "            #objective stats for both teams\n",
    "            if event['type']=='BUILDING_KILL' and event['buildingType'] == 'TOWER_BUILDING':\n",
    "                if event['killerId'] in range (1,6):\n",
    "                    total_towers_destroyed_by_blue+=1\n",
    "                else:\n",
    "                    total_towers_destroyed_by_red+=1\n",
    "            \n",
    "            #tower/turret stats\n",
    "            if event['type']=='BUILDING_KILL' and event['buildingType'] == 'INHIBITOR_BUILDING':\n",
    "                if event['killerId'] in range (1,6):\n",
    "                    total_inhibitors_destroyed_by_blue+=1\n",
    "                else:\n",
    "                    total_inhibitors_destroyed_by_red+=1\n",
    "\n",
    "            #elite monsters stats. within first 20 mins the only elite monsters that can be killed are rift heralds and dragons, baron nashor and elder dragon spawns after 20 mmins\n",
    "            if event['type']=='ELITE_MONSTER_KILL':\n",
    "                if event['monsterType'] == 'DRAGON':\n",
    "                    if event['killerId'] in range(1,6):\n",
    "                        total_blue_side_dragons_killed+=1\n",
    "                    else:\n",
    "                        total_red_side_dragons_killed+=1\n",
    "                if event['monsterType']=='RIFTHERALD':\n",
    "                    if event['killerId'] in range(1,6):\n",
    "                        total_blue_side_riftHeralds_killed+=1\n",
    "                    else:\n",
    "                        total_red_side_riftHeralds_killed+=1\n",
    "                    \n",
    "\n",
    "\n",
    "    df = pd.DataFrame({\n",
    "        #blue stats\n",
    "        'total_blue_side_minions': [total_blue_side_minions],\n",
    "        'total_blue_side_gold_earned': [total_blue_side_gold_earned],\n",
    "        'total_blue_side_wards_placed':[total_blue_side_wards_placed],\n",
    "        'total_blue_side_kills':[total_blue_side_kills],\n",
    "        'total_blue_side_deaths':[total_blue_side_deaths],\n",
    "        'total_blue_side_dragons_killed':[total_blue_side_dragons_killed],\n",
    "        'total_blue_side_riftHeralds_killed':[total_blue_side_riftHeralds_killed],\n",
    "        'total_towers_destroyed_by_blue': [total_towers_destroyed_by_blue],\n",
    "        'total_inhibitors_destroyed_by_blue':[total_inhibitors_destroyed_by_blue],\n",
    "\n",
    "        #red stats\n",
    "        'total_red_side_minions':[total_red_side_minions],\n",
    "        'total_red_side_gold_earned':[total_red_side_gold_earned],\n",
    "        'total_red_side_kills':[total_red_side_kills],\n",
    "        'total_red_side_deaths':[total_red_side_deaths],\n",
    "        'total_red_side_wards_placed':[total_red_side_wards_placed],        \n",
    "        'total_red_side_dragons_killed':[total_red_side_dragons_killed],\n",
    "        'total_red_side_riftHeralds_killed':[total_red_side_riftHeralds_killed],\n",
    "        'total_towers_destroyed_by_red':[total_towers_destroyed_by_red],\n",
    "        'total_inhibitors_destroyed_by_red':[total_inhibitors_destroyed_by_red],\n",
    "\n",
    "        'blue_side_won': [blue_side_won]\n",
    "\n",
    "\n",
    "    })\n",
    "\n",
    "    return df\n",
    "        \n",
    "\n"
   ]
  },
  {
   "cell_type": "code",
   "execution_count": null,
   "metadata": {},
   "outputs": [],
   "source": [
    "len(all_match_id_list)"
   ]
  },
  {
   "cell_type": "code",
   "execution_count": null,
   "metadata": {},
   "outputs": [],
   "source": [
    "match_ids = unique_match_id_list\n",
    "dfs = pd.DataFrame()  #empty dataframe to hold all our data\n",
    "#gets all match info for match ids\n",
    "for match_id in match_ids:\n",
    "    try:\n",
    "        game = get_match_info_at_twenty(matchId=match_id)\n",
    "\n",
    "        if game is None:\n",
    "            print(f'{match_id} is none. skip')\n",
    "            continue\n",
    "        #check if match is actually 20 minutes long\n",
    "        if len(game['info']['frames']) >=20:  \n",
    "            match_df = get_specific_match_stats_at_twenty(game)\n",
    "            dfs=pd.concat([dfs, match_df])\n",
    "        else:\n",
    "            print(f\"Match ID {match_id} is shorter than 20 minutes.\")\n",
    "    except TypeError as e:\n",
    "        print(f'error with {match_id}: {e}')"
   ]
  },
  {
   "cell_type": "code",
   "execution_count": null,
   "metadata": {},
   "outputs": [],
   "source": [
    "dfs.shape"
   ]
  },
  {
   "cell_type": "code",
   "execution_count": null,
   "metadata": {},
   "outputs": [],
   "source": [
    "dfs"
   ]
  },
  {
   "cell_type": "code",
   "execution_count": null,
   "metadata": {},
   "outputs": [],
   "source": [
    "dfs.to_csv('twenty_mins_data.csv')"
   ]
  },
  {
   "cell_type": "code",
   "execution_count": null,
   "metadata": {},
   "outputs": [],
   "source": [
    "df =pd.read_csv('twenty_mins_data.csv')\n",
    "df"
   ]
  },
  {
   "cell_type": "code",
   "execution_count": null,
   "metadata": {},
   "outputs": [],
   "source": []
  }
 ],
 "metadata": {
  "kernelspec": {
   "display_name": "base",
   "language": "python",
   "name": "python3"
  },
  "language_info": {
   "codemirror_mode": {
    "name": "ipython",
    "version": 3
   },
   "file_extension": ".py",
   "mimetype": "text/x-python",
   "name": "python",
   "nbconvert_exporter": "python",
   "pygments_lexer": "ipython3",
   "version": "3.11.5"
  }
 },
 "nbformat": 4,
 "nbformat_minor": 2
}
